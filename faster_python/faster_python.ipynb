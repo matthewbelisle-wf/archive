{
 "metadata": {
  "name": "faster_python"
 },
 "nbformat": 3,
 "nbformat_minor": 0,
 "worksheets": [
  {
   "cells": [
    {
     "cell_type": "heading",
     "level": 3,
     "metadata": {},
     "source": "Use built-in functions when possible."
    },
    {
     "cell_type": "code",
     "collapsed": false,
     "input": "from random import sample\nlist1 = sample(range(1000), 500)\nlist2 = sample(range(1000), 500)",
     "language": "python",
     "metadata": {},
     "outputs": []
    },
    {
     "cell_type": "code",
     "collapsed": false,
     "input": "timeit intersection = [i for i in list1 if i in list2]",
     "language": "python",
     "metadata": {},
     "outputs": []
    },
    {
     "cell_type": "code",
     "collapsed": false,
     "input": "timeit intersection = set(list1).intersection(set(list2))",
     "language": "python",
     "metadata": {},
     "outputs": []
    },
    {
     "cell_type": "heading",
     "level": 3,
     "metadata": {},
     "source": "Use a set instead of a list for inclusion testing."
    },
    {
     "cell_type": "code",
     "collapsed": false,
     "input": "mylist = sample(range(1000), 500)\nmyset = set(list1)",
     "language": "python",
     "metadata": {},
     "outputs": []
    },
    {
     "cell_type": "code",
     "collapsed": false,
     "input": "timeit 1005 in mylist",
     "language": "python",
     "metadata": {},
     "outputs": []
    },
    {
     "cell_type": "code",
     "collapsed": false,
     "input": "timeit 1005 in myset",
     "language": "python",
     "metadata": {},
     "outputs": []
    },
    {
     "cell_type": "heading",
     "level": 3,
     "metadata": {},
     "source": "Use a deque instead of a list for insert(0, item) or append(item)."
    },
    {
     "cell_type": "code",
     "collapsed": false,
     "input": "from collections import deque\nmylist = list()\nmydeque = deque()",
     "language": "python",
     "metadata": {},
     "outputs": []
    },
    {
     "cell_type": "code",
     "collapsed": false,
     "input": "timeit -n 1000 mylist.insert(0, None)",
     "language": "python",
     "metadata": {},
     "outputs": []
    },
    {
     "cell_type": "code",
     "collapsed": false,
     "input": "timeit -n 1000 mydeque.appendleft(None)",
     "language": "python",
     "metadata": {},
     "outputs": []
    },
    {
     "cell_type": "heading",
     "level": 3,
     "metadata": {},
     "source": "Use a generator instead of a list when you only need to use it once."
    },
    {
     "cell_type": "code",
     "collapsed": false,
     "input": "from sys import getsizeof\nmylist = [i ** 2 for i in range(1000)]\nmygenerator = (i ** 2 for i in range(1000))\nassert sum(mylist) == sum(mygenerator)",
     "language": "python",
     "metadata": {},
     "outputs": []
    },
    {
     "cell_type": "code",
     "collapsed": false,
     "input": "getsizeof(mylist)",
     "language": "python",
     "metadata": {},
     "outputs": []
    },
    {
     "cell_type": "code",
     "collapsed": false,
     "input": "getsizeof(mygenerator)",
     "language": "python",
     "metadata": {},
     "outputs": []
    }
   ],
   "metadata": {}
  }
 ]
}